{
 "cells": [
  {
   "cell_type": "code",
   "execution_count": null,
   "metadata": {},
   "outputs": [],
   "source": [
    "def Fa(c):\n",
    "    F = 9/5*c+32\n",
    "    retrun F\n",
    "def Ka(c):\n",
    "    K = c+273.15\n",
    "    return K\n",
    "\n",
    "\n",
    "\n",
    "\n",
    "C = float(input(\"องศาเซลเซียส\"))\n",
    "print(Fa(C))\n",
    "print(Ka(C))"
   ]
  },
  {
   "cell_type": "code",
   "execution_count": null,
   "metadata": {},
   "outputs": [],
   "source": [
    "a = float(input(\"กรุณาป้อนคะเเนนเก็บ:\"))\n",
    "while a > 20:\n",
    "    print(\"ไม่สามารถใส่คะเเนนมากกว่า 20 คะเเนนได้\")\n",
    "    a = int(input(\"กรุณาใส่คะเเนนการบ้านใหม่ (ไม่เกิน 20 คะเเนน):\"))\n",
    "b = float(input(\"กรุณาป้อนคะเเนนจิตบำบัด: \"))\n",
    "while b > 10:\n",
    "    print(\"ไม่สามารถใส่คะเเนนมากกว่า 20 คะเเนนได้\")\n",
    "    b = int(input(\"กรุณาใส่คะเเนนการบ้านใหม่ (ไม่เกิน 20 คะเเนน):\"))\n",
    "c = float(input(\"กรุณาป้อนคะเเนนกลางภาค: \"))\n",
    "while c> 20:\n",
    "    print(\"ไม่สามารถใส่คะเเนนมากกว่า 20 คะเเนนได้\")\n",
    "    C = int(input(\"กรุณาใส่คะเเนนการบ้านใหม่ (ไม่เกิน 20 คะเเนน)\"))\n",
    "def bmi(a,b,c):\n",
    "    total_score = a+c+b \n",
    "    return total_score\n",
    "total_score = bmi(a,b,c)\n",
    "if total_score > 50\n",
    "    print(\"ผลคะเเนนเกิน 50 คะเเนน กรุณาป้อนคะเเนนใหม่\")\n",
    "else:\n",
    "    print(\"คะเเนนรวม =\", total_score)"
   ]
  }
 ],
 "metadata": {
  "language_info": {
   "name": "python"
  }
 },
 "nbformat": 4,
 "nbformat_minor": 2
}
